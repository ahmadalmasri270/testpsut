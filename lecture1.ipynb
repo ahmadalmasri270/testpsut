{
  "nbformat": 4,
  "nbformat_minor": 0,
  "metadata": {
    "colab": {
      "provenance": [],
      "authorship_tag": "ABX9TyP5AEEKIBHGvvTRwB7zsuke",
      "include_colab_link": true
    },
    "kernelspec": {
      "name": "python3",
      "display_name": "Python 3"
    },
    "language_info": {
      "name": "python"
    }
  },
  "cells": [
    {
      "cell_type": "markdown",
      "metadata": {
        "id": "view-in-github",
        "colab_type": "text"
      },
      "source": [
        "<a href=\"https://colab.research.google.com/github/ahmadalmasri270/testpsut/blob/main/lecture1.ipynb\" target=\"_parent\"><img src=\"https://colab.research.google.com/assets/colab-badge.svg\" alt=\"Open In Colab\"/></a>"
      ]
    },
    {
      "cell_type": "code",
      "execution_count": 4,
      "metadata": {
        "colab": {
          "base_uri": "https://localhost:8080/"
        },
        "id": "DvUe1XLXINbW",
        "outputId": "6c7b6181-a795-46d8-892a-016c43bb428e"
      },
      "outputs": [
        {
          "output_type": "stream",
          "name": "stdout",
          "text": [
            "Hello world\n",
            "num1 is positive\n",
            "30\n"
          ]
        }
      ],
      "source": [
        "print(\"Hello world\")\n",
        "num1=10\n",
        "num2=20\n",
        "\n",
        "\n",
        "total =(num1+num2)\n",
        "\n",
        "if num1>0:\n",
        "  print(\"num1 is positive\")\n",
        "else: print(\"num1 is negative\")\n",
        "\n",
        "print (total)\n",
        ""
      ]
    }
  ]
}